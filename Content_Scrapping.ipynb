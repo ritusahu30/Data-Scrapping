{
  "nbformat": 4,
  "nbformat_minor": 0,
  "metadata": {
    "colab": {
      "provenance": []
    },
    "kernelspec": {
      "name": "python3",
      "display_name": "Python 3"
    },
    "language_info": {
      "name": "python"
    }
  },
  "cells": [
    {
      "cell_type": "code",
      "source": [
        "# First, install the required libraries\n",
        "!pip install requests beautifulsoup4\n"
      ],
      "metadata": {
        "colab": {
          "base_uri": "https://localhost:8080/"
        },
        "id": "Hve5rzCcs4Ub",
        "outputId": "b9ced48a-1cab-4a94-c031-05ab9d7a96ec"
      },
      "execution_count": null,
      "outputs": [
        {
          "output_type": "stream",
          "name": "stdout",
          "text": [
            "Requirement already satisfied: requests in /usr/local/lib/python3.10/dist-packages (2.32.3)\n",
            "Requirement already satisfied: beautifulsoup4 in /usr/local/lib/python3.10/dist-packages (4.12.3)\n",
            "Requirement already satisfied: charset-normalizer<4,>=2 in /usr/local/lib/python3.10/dist-packages (from requests) (3.3.2)\n",
            "Requirement already satisfied: idna<4,>=2.5 in /usr/local/lib/python3.10/dist-packages (from requests) (3.10)\n",
            "Requirement already satisfied: urllib3<3,>=1.21.1 in /usr/local/lib/python3.10/dist-packages (from requests) (2.2.3)\n",
            "Requirement already satisfied: certifi>=2017.4.17 in /usr/local/lib/python3.10/dist-packages (from requests) (2024.8.30)\n",
            "Requirement already satisfied: soupsieve>1.2 in /usr/local/lib/python3.10/dist-packages (from beautifulsoup4) (2.6)\n"
          ]
        }
      ]
    },
    {
      "cell_type": "code",
      "source": [
        "import requests\n",
        "from bs4 import BeautifulSoup\n",
        "\n",
        "# URL of the TechCrunch article\n",
        "url = \"https://techcrunch.com/2024/04/30/sams-clubs-ai-powered-exit-tech-reaches-20-of-stores/\"\n"
      ],
      "metadata": {
        "id": "V_-sPNljs4WQ"
      },
      "execution_count": null,
      "outputs": []
    },
    {
      "cell_type": "code",
      "source": [
        "# Send a GET request to the URL\n",
        "response = requests.get(url)"
      ],
      "metadata": {
        "id": "B8osnDhSs4Zj"
      },
      "execution_count": null,
      "outputs": []
    },
    {
      "cell_type": "code",
      "source": [
        "# Check if the request was successful (status code 200)\n",
        "if response.status_code == 200:\n",
        "    # Parse the HTML content using BeautifulSoup\n",
        "    soup = BeautifulSoup(response.content, 'html.parser')\n",
        "\n",
        "    # Extract the title\n",
        "    title = soup.find('h1').text.strip()  # The title is usually in an <h1> tag\n",
        "\n",
        "    # Print the title\n",
        "    print(f\"Title: {title}\\n\")\n",
        "\n",
        "    # Extract the article content\n",
        "    article_content = soup.find('div', class_='entry-content wp-block-post-content is-layout-flow wp-block-post-content-is-layout-flow')  # Adjust the class if necessary\n",
        "\n",
        "    # Debugging: print the article_content to see what it contains\n",
        "    if article_content:\n",
        "        # Extract all <p> tags\n",
        "        paragraphs = article_content.find_all('p')\n",
        "\n",
        "        # Join the paragraphs to form the complete article text\n",
        "        article_text = \"\\n\".join([para.text for para in paragraphs])\n",
        "\n",
        "        # Print the article content\n",
        "        print(\"Article Content:\\n\")\n",
        "        print(article_text)\n",
        "    else:\n",
        "        print(\"Could not find the article content. Please check the class name.\")\n",
        "\n",
        "else:\n",
        "    print(f\"Failed to retrieve the article. Status code: {response.status_code}\")"
      ],
      "metadata": {
        "colab": {
          "base_uri": "https://localhost:8080/"
        },
        "id": "XxKBKwyes4bY",
        "outputId": "05fb5cc1-96ff-4bcf-d54c-65792c6dc996"
      },
      "execution_count": null,
      "outputs": [
        {
          "output_type": "stream",
          "name": "stdout",
          "text": [
            "Title: Sam’s Club’s AI-powered exit tech reaches 20% of stores\n",
            "\n",
            "Article Content:\n",
            "\n",
            "Amazon may be scaling back its AI-powered Just Walk Out checkout-free tech in its stores in favor of smart shopping carts, but Walmart-owned Sam’s Club says it’s turning to AI to speed up its own exit technology. Instead of requiring store staff to check members’ purchases against their receipts when leaving the store, Sam’s Club customers who pay either at a register or through the Scan & Go mobile app can now walk out of the store without having their purchases double-checked.\n",
            "The technology, unveiled at the Consumer Electronics Show in January, has now been deployed at over 120 clubs across the U.S., which is 20% of the total number of Sam’s Club locations. Since rolling out, the company claims that it has significantly sped up exits, as members leave the store 23% faster. The retailer plans to expand the tech to all its stores by year-end.\n",
            "The system works via a combination of computer vision and digital tech that captures images of customers’ carts and then verifies payment for the items in their basket. Sam’s Club says AI is used in the background to speed up the process. The AI also learns and improves over time as thousands of exit transactions across locations are analyzed.\n",
            "Before the technology was put into place, Sam’s Club members would have to queue up at the store’s exit to wait to have their receipts checked. The new solution keeps them moving along and frees up store staff to focus on other tasks.\n",
            "The company also took a subtle shot at rival Amazon in announcing the expansion, noting that its technology arrives as “other retailers have struggled to deploy similar technology at scale, with some abandoning efforts” — a clear reference to Amazon’s pullback on Just Walk Out. In addition, Amazon had to fend off criticism that its AI tech had relied on 1,000 some human workers to review transactions. Amazon said machine learning had powered its technology and that contractors were only annotating the AI and shopping data to improve the system.\n",
            "By comparison, Sam’s Club says it has less than 40 employees working on deployment of exit technology, including engineering, product, UX, marketing, operations, and real estate.\n"
          ]
        }
      ]
    },
    {
      "cell_type": "code",
      "source": [],
      "metadata": {
        "id": "2Aqhki4xs4fY"
      },
      "execution_count": null,
      "outputs": []
    },
    {
      "cell_type": "code",
      "source": [],
      "metadata": {
        "id": "D3PyROTLs4mA"
      },
      "execution_count": null,
      "outputs": []
    }
  ]
}